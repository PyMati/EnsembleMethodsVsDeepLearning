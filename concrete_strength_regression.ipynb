{
 "cells": [
  {
   "cell_type": "code",
   "execution_count": 21,
   "metadata": {},
   "outputs": [],
   "source": [
    "import pandas as pd\n",
    "import numpy as np\n",
    "from sklearn.model_selection import train_test_split\n",
    "from sklearn.metrics import mean_squared_error\n",
    "from sklearn.ensemble import RandomForestRegressor\n",
    "from sklearn.preprocessing import StandardScaler\n",
    "import time\n",
    "import torch\n",
    "from torch.optim import Adam\n",
    "from torch.nn import MSELoss\n",
    "from torch import nn\n",
    "from torch.utils.data import DataLoader, Dataset"
   ]
  },
  {
   "cell_type": "code",
   "execution_count": 22,
   "metadata": {},
   "outputs": [],
   "source": [
    "NEURAL_NETWORK_EPOCHS = [10, 50, 100, 200, 500]"
   ]
  },
  {
   "cell_type": "code",
   "execution_count": 23,
   "metadata": {},
   "outputs": [],
   "source": [
    "data = pd.read_csv(\"./data/concrete_strength/Concrete_Data_Yeh.csv\")"
   ]
  },
  {
   "cell_type": "code",
   "execution_count": 24,
   "metadata": {},
   "outputs": [],
   "source": [
    "X = data.drop(\"csMPa\", axis=1)\n",
    "y = data[\"csMPa\"]"
   ]
  },
  {
   "cell_type": "code",
   "execution_count": 25,
   "metadata": {},
   "outputs": [],
   "source": [
    "X_train, X_test, y_train, y_test = train_test_split(X, y)"
   ]
  },
  {
   "cell_type": "code",
   "execution_count": 26,
   "metadata": {},
   "outputs": [],
   "source": [
    "scaler = StandardScaler()\n",
    "scaler.fit(X_train)\n",
    "X_train = scaler.transform(X_train)\n",
    "X_test = scaler.transform(X_test)"
   ]
  },
  {
   "cell_type": "code",
   "execution_count": 27,
   "metadata": {},
   "outputs": [],
   "source": [
    "def calculate_running_time(func):\n",
    "    def wrapper(*args, **kwargs):\n",
    "        start = time.time()\n",
    "        model = func(*args)\n",
    "        end = time.time() - start\n",
    "        print(f\"Function runned in {end} seconds.\")\n",
    "        return model\n",
    "    return wrapper"
   ]
  },
  {
   "cell_type": "code",
   "execution_count": 28,
   "metadata": {},
   "outputs": [],
   "source": [
    "@calculate_running_time\n",
    "def train_forest(X, y):\n",
    "    model = RandomForestRegressor()\n",
    "    model.fit(X, y)\n",
    "    return model"
   ]
  },
  {
   "cell_type": "code",
   "execution_count": 29,
   "metadata": {},
   "outputs": [],
   "source": [
    "class DeepLearningModel(nn.Module):\n",
    "    def __init__(self, activation_function):\n",
    "        super().__init__()\n",
    "        self.layers = nn.Sequential(\n",
    "            nn.Linear(8, 16),\n",
    "            activation_function(),\n",
    "            nn.Linear(16, 32),\n",
    "            activation_function(),\n",
    "            nn.Linear(32, 64),\n",
    "            activation_function(),\n",
    "            nn.Linear(64, 32),\n",
    "            activation_function(),\n",
    "            nn.Linear(32, 16),\n",
    "            activation_function(),\n",
    "            nn.Linear(16, 8),\n",
    "            activation_function(),\n",
    "            nn.Linear(8, 1),\n",
    "        )\n",
    "        \n",
    "        \n",
    "    def forward(self, X):\n",
    "        return self.layers(X)"
   ]
  },
  {
   "cell_type": "code",
   "execution_count": 30,
   "metadata": {},
   "outputs": [],
   "source": [
    "class DataProvider(Dataset):\n",
    "    def __init__(self, X, y):\n",
    "        super().__init__()\n",
    "\n",
    "        self.X = torch.tensor(X).float()\n",
    "        self.y = torch.tensor(y.values).float()\n",
    "        \n",
    "    def __len__(self):\n",
    "        return len(self.X)\n",
    "    \n",
    "    def __getitem__(self, index):\n",
    "        return self.X[index], self.y[index]"
   ]
  },
  {
   "cell_type": "code",
   "execution_count": 31,
   "metadata": {},
   "outputs": [],
   "source": [
    "def build_model(activation_function):\n",
    "    return DeepLearningModel(activation_function)"
   ]
  },
  {
   "cell_type": "code",
   "execution_count": 32,
   "metadata": {},
   "outputs": [],
   "source": [
    "def train_model_for_num_of_epochs(epochs: int, trained_models: dict, data: DataLoader):\n",
    "    time_start = time.time()\n",
    "    \n",
    "    model_name = f\"Model-{epochs}\"\n",
    "    loss_func = MSELoss()\n",
    "    model = build_model(nn.ReLU)\n",
    "    optimizer = Adam(model.parameters(), lr=0.0001)\n",
    "    \n",
    "    for epoch in range(epochs):\n",
    "        for inp, out in data:\n",
    "            optimizer.zero_grad()\n",
    "            out = torch.unsqueeze(out, -1)\n",
    "            prediction = model(inp)\n",
    "            loss = loss_func(prediction, out)\n",
    "            loss.backward()\n",
    "            optimizer.step()\n",
    "            \n",
    "        \n",
    "    print(f\"Model name {model_name}: Loss: {loss.item()}\")\n",
    "    \n",
    "    trained_models[model_name] = {\n",
    "        \"Time\": (time.time() - time_start),\n",
    "        \"Epochs\": epochs,\n",
    "        \"Model\": model,\n",
    "        \"Optimizer\": optimizer,\n",
    "        \"Loss function\": loss_func\n",
    "    }"
   ]
  },
  {
   "cell_type": "code",
   "execution_count": 33,
   "metadata": {},
   "outputs": [],
   "source": [
    "def get_results(data: DataLoader, model: DeepLearningModel):\n",
    "    loss_func = MSELoss()\n",
    "    data_len = len(data)\n",
    "    mse_sum = 0\n",
    "    \n",
    "    for inp, out in data:\n",
    "        out = torch.unsqueeze(out, -1)\n",
    "        preds = model(inp)\n",
    "        loss = loss_func(preds, out)\n",
    "        mse_sum += loss.item()\n",
    "    \n",
    "    mse = mse_sum / data_len\n",
    "    print(mse)\n",
    "        "
   ]
  },
  {
   "cell_type": "code",
   "execution_count": 34,
   "metadata": {},
   "outputs": [],
   "source": [
    "train_provider = DataProvider(X_train, y_train)\n",
    "train_iterator = DataLoader(train_provider, batch_size=32, shuffle=False)"
   ]
  },
  {
   "cell_type": "code",
   "execution_count": 35,
   "metadata": {},
   "outputs": [],
   "source": [
    "test_provider = DataProvider(X_test, y_test)\n",
    "test_iterator = DataLoader(test_provider, batch_size=32, shuffle=False)"
   ]
  },
  {
   "cell_type": "code",
   "execution_count": 36,
   "metadata": {},
   "outputs": [
    {
     "name": "stdout",
     "output_type": "stream",
     "text": [
      "Function runned in 0.6383416652679443 seconds.\n"
     ]
    }
   ],
   "source": [
    "forest = train_forest(X_train, y_train)"
   ]
  },
  {
   "cell_type": "code",
   "execution_count": 37,
   "metadata": {},
   "outputs": [
    {
     "data": {
      "text/plain": [
       "31.294733605492397"
      ]
     },
     "execution_count": 37,
     "metadata": {},
     "output_type": "execute_result"
    }
   ],
   "source": [
    "forest_predictions = forest.predict(X_test)\n",
    "forest_results = mean_squared_error(y_test, forest_predictions)\n",
    "forest_results"
   ]
  },
  {
   "cell_type": "code",
   "execution_count": 38,
   "metadata": {},
   "outputs": [],
   "source": [
    "models = {}"
   ]
  },
  {
   "cell_type": "code",
   "execution_count": 39,
   "metadata": {},
   "outputs": [
    {
     "name": "stdout",
     "output_type": "stream",
     "text": [
      "Model name Model-10: Loss: 864.9705200195312\n",
      "Model name Model-50: Loss: 81.90930938720703\n",
      "Model name Model-100: Loss: 72.11370849609375\n",
      "Model name Model-200: Loss: 47.4844856262207\n",
      "Model name Model-500: Loss: 10.591087341308594\n",
      "1543.8618842230903\n",
      "165.45723130967883\n",
      "153.00692452324762\n",
      "79.56938552856445\n",
      "47.30097368028429\n"
     ]
    }
   ],
   "source": [
    "for num_of_epochs in NEURAL_NETWORK_EPOCHS:\n",
    "    train_model_for_num_of_epochs(num_of_epochs, models, train_iterator)\n",
    "\n",
    "for num_of_epochs in NEURAL_NETWORK_EPOCHS:\n",
    "    get_results(test_iterator, models[f\"Model-{num_of_epochs}\"][\"Model\"])"
   ]
  },
  {
   "cell_type": "code",
   "execution_count": 40,
   "metadata": {},
   "outputs": [
    {
     "name": "stdout",
     "output_type": "stream",
     "text": [
      "0.5589962005615234\n",
      "2.67238712310791\n",
      "5.355464458465576\n",
      "10.854358434677124\n",
      "27.134477138519287\n"
     ]
    }
   ],
   "source": [
    "for num_of_epochs in NEURAL_NETWORK_EPOCHS:\n",
    "    print(models[f\"Model-{num_of_epochs}\"][\"Time\"])"
   ]
  },
  {
   "cell_type": "code",
   "execution_count": null,
   "metadata": {},
   "outputs": [],
   "source": []
  }
 ],
 "metadata": {
  "kernelspec": {
   "display_name": "NLP",
   "language": "python",
   "name": "python3"
  },
  "language_info": {
   "codemirror_mode": {
    "name": "ipython",
    "version": 3
   },
   "file_extension": ".py",
   "mimetype": "text/x-python",
   "name": "python",
   "nbconvert_exporter": "python",
   "pygments_lexer": "ipython3",
   "version": "3.10.13"
  }
 },
 "nbformat": 4,
 "nbformat_minor": 2
}
